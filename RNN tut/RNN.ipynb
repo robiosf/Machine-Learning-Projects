{
 "cells": [
  {
   "cell_type": "markdown",
   "metadata": {},
   "source": [
    "Summation"
   ]
  },
  {
   "cell_type": "code",
   "execution_count": 2,
   "metadata": {},
   "outputs": [],
   "source": [
    "import numpy as np\n",
    "import copy\n",
    "%matplotlib inline"
   ]
  },
  {
   "cell_type": "code",
   "execution_count": 3,
   "metadata": {},
   "outputs": [],
   "source": [
    "def sigmoid(x):\n",
    "    y = 1/(1+np.exp(-x))\n",
    "    return y\n",
    "def dersigmoid(x):\n",
    "    y = x*(1-x)\n",
    "    return y"
   ]
  },
  {
   "cell_type": "code",
   "execution_count": 4,
   "metadata": {},
   "outputs": [],
   "source": [
    "#Initialize the model\n",
    "step = 0.1\n",
    "ipnumber = 2\n",
    "hdnumber = 32\n",
    "opnumber = 2\n",
    "\n",
    "neu_i2h = 2*np.random.random((ipnumber,hdnumber)) - 1\n",
    "neu_h2o = 2*np.random.random((hdnumber,opnumber)) - 1\n",
    "neu_h2h = 2*np.random.random((hdnumber,hdnumber)) - 1\n",
    "\n",
    "neu_i2hN = np.zeros_like(neu_i2h)\n",
    "neu_h2oN = np.zeros_like(neu_h2o)\n",
    "neu_h2hN = np.zeros_like(neu_h2h)"
   ]
  },
  {
   "cell_type": "code",
   "execution_count": 5,
   "metadata": {},
   "outputs": [],
   "source": [
    "#Set to binary\n",
    "i2b = {}\n",
    "bdigit = 8\n",
    "MAXnumber = pow(2,bdigit)\n",
    "bin = np.unpackbits(np.array([range(MAXnumber)],dtype=np.uint8).T,axis=1)\n",
    "for i in range(MAXnumber):\n",
    "    i2b[i] = bin[i]"
   ]
  },
  {
   "cell_type": "code",
   "execution_count": 16,
   "metadata": {},
   "outputs": [],
   "source": [
    "for j in range(20000):\n",
    "    a_decimal = np.random.randint(MAXnumber / 2)\n",
    "    b_decimal = np.random.randint(MAXnumber / 2)\n",
    "    c_decimal = a_decimal + b_decimal\n",
    "    a = i2b[a_decimal]\n",
    "    b = i2b[b_decimal]\n",
    "    c = i2b[c_decimal]\n",
    "    binary = np.zeros_like(c)\n",
    "    aError = 0\n",
    "    oplayer_der = list()\n",
    "    hdlayer_val = list()\n",
    "    hdlayer_val.append(np.zeros(hdnumber))\n",
    "\n",
    "    for locate in range(bdigit):\n",
    "        X = np.array([[a[bdigit - locate - 1],b[bdigit - locate - 1]]])\n",
    "        Y = np.array([[c[bdigit - locate - 1]]]).T\n",
    "        hdlayer = sigmoid(np.dot(X,neu_i2h) + np.dot(hdlayer_val[-1],neu_h2h))\n",
    "        oplayer = sigmoid(np.dot(hdlayer,neu_h2o))\n",
    "        oplayer_error = Y - oplayer\n",
    "        oplayer_der.append((oplayer_error)*dersigmoid(oplayer))\n",
    "        aError += np.abs(oplayer_error[0])\n",
    "\n",
    "        binary[bdigit - locate - 1] = np.round(oplayer[0][0])\n",
    "\n",
    "        hdlayer_val.append(copy.deepcopy(hdlayer))\n",
    "\n",
    "    Fhdlayer_dels = np.zeros(hdnumber)\n",
    "    for locate in range(bdigit):\n",
    "        X = np.array([[a[locate],b[locate]]])\n",
    "        hdlayer = hdlayer_val[-locate-1]\n",
    "        hdlayer_pre = hdlayer_val[-locate-2]\n",
    "\n",
    "        oplayer_dels = oplayer_der[-locate-1]\n",
    "        hdlayer_dels = (Fhdlayer_dels.dot(neu_h2h.T) + oplayer_dels.dot(neu_h2o.T)) * dersigmoid(hdlayer)\n",
    "\n",
    "        neu_h2oN += np.atleast_2d(hdlayer).T.dot(oplayer_dels)\n",
    "        neu_h2hN += np.atleast_2d(hdlayer_pre).T.dot(hdlayer_dels)\n",
    "        neu_i2hN += X.T.dot(hdlayer_dels)\n",
    "        Fhdlayer_dels = hdlayer_dels\n",
    "\n",
    "    neu_i2h += neu_i2hN * step\n",
    "    neu_h2o += neu_h2oN * step\n",
    "    neu_h2h += neu_h2hN * step\n",
    "\n",
    "    neu_i2hN *= 0\n",
    "    neu_h2oN *= 0\n",
    "    neu_h2hN *= 0"
   ]
  },
  {
   "cell_type": "code",
   "execution_count": 17,
   "metadata": {},
   "outputs": [
    {
     "name": "stdout",
     "output_type": "stream",
     "text": [
      "Error:[0.2022322  0.19161575]\n",
      "Predicted:[1 0 0 0 1 0 1 0]\n",
      "True:[1 0 0 0 1 0 1 0]\n",
      "45 + 93 = 138\n"
     ]
    }
   ],
   "source": [
    "print(\"Error:\" + str(aError))\n",
    "print(\"Predicted:\" + str(binary))\n",
    "print(\"True:\" + str(c))\n",
    "value = 0\n",
    "for index,x in enumerate(reversed(binary)):\n",
    "    value += x*pow(2,index)\n",
    "print(str(a_decimal) + \" + \" + str(b_decimal) + \" = \" + str(value))"
   ]
  },
  {
   "cell_type": "code",
   "execution_count": null,
   "metadata": {},
   "outputs": [],
   "source": []
  }
 ],
 "metadata": {
  "kernelspec": {
   "display_name": "Python 3",
   "language": "python",
   "name": "python3"
  },
  "language_info": {
   "codemirror_mode": {
    "name": "ipython",
    "version": 3
   },
   "file_extension": ".py",
   "mimetype": "text/x-python",
   "name": "python",
   "nbconvert_exporter": "python",
   "pygments_lexer": "ipython3",
   "version": "3.7.5"
  }
 },
 "nbformat": 4,
 "nbformat_minor": 2
}
