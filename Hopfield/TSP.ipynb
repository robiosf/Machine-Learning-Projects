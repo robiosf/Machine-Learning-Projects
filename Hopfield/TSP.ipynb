{
 "cells": [
  {
   "cell_type": "code",
   "execution_count": 1,
   "metadata": {},
   "outputs": [],
   "source": [
    "from numpy import *\n",
    "import numpy as np\n",
    "import random\n",
    "from matplotlib import pyplot as plt\n",
    "%matplotlib inline"
   ]
  },
  {
   "cell_type": "code",
   "execution_count": 2,
   "metadata": {},
   "outputs": [],
   "source": [
    "def d_u(V,distance,m):\n",
    "    a = np.sum(V, axis=0)-1\n",
    "    b = np.sum(V, axis=1)-1\n",
    "    y = np.array([[0.0 for i in range(m)] for i in range(m)])\n",
    "    x = np.array([[0.0 for i in range(m)] for i in range(m)])\n",
    "    for i in range(m):\n",
    "        for j in range(m):\n",
    "            x[i, j] = a[j]\n",
    "    for i in range(m):\n",
    "        for j in range(m):\n",
    "            y[j, i] = b[j]\n",
    "    \n",
    "    c_1 = V[:, 1:m]\n",
    "    c_0 = np.array([[0.0] for i in range(m)])\n",
    "    c_0[:,0]=V[:,0]\n",
    "    c = np.concatenate((c_1,c_0), axis=1)\n",
    "    c = np.dot(distance,c)\n",
    "    p = -A * (x + y) - D * c;\n",
    "    return p;"
   ]
  },
  {
   "cell_type": "code",
   "execution_count": 3,
   "metadata": {},
   "outputs": [],
   "source": [
    "def energy(V,distance):\n",
    "    a = sum([x*x for x in (np.sum(V, axis=0)-1)])\n",
    "    b = sum([x*x for x in (np.sum(V, axis=1)-1)])\n",
    "    c_1 = V[:, 1:m]\n",
    "    c_0 = np.array([[0.0] for i in range(m)])\n",
    "    c_0[:,0]=V[:,0]\n",
    "    c = np.concatenate((c_1, c_0), axis=1)\n",
    "    c = np.sum(np.sum(np.multiply(V,np.dot(distance, c)), axis=0))\n",
    "    e = 0.5*(A*(a+b)+D*c)\n",
    "    return e"
   ]
  },
  {
   "cell_type": "code",
   "execution_count": 4,
   "metadata": {},
   "outputs": [],
   "source": [
    "city= np.array([[0.7000,0.2000],[0.4000,0.3000],[0.5000,0.8000],[0.3000,0.4000],[0.1000,0.9000],[0.9000,0.4000],[0.8000,0.6000],[0.6000,0.9000],[0.3000,0.6000],[0.2000,0.8000]])\n",
    "m = len(city)\n",
    "\n",
    "distance = np.array([[0.0 for i in range(m)] for i in range(m)])\n",
    "for i in range(m):\n",
    "    for j in range(m):\n",
    "        a = sqrt((city[i,0] - city[j,0]) * (city[i,0] - city[j,0]) + (city[i,1] - city[j,1]) * (city[i,1] - city[j,1]))\n",
    "        distance[i,j] = a\n",
    "        distance[j,i] = a"
   ]
  },
  {
   "cell_type": "code",
   "execution_count": 5,
   "metadata": {},
   "outputs": [],
   "source": [
    "A = 300\n",
    "D = 200\n",
    "U0 = 0.1\n",
    "step = 0.0001\n",
    "\n",
    "delta=2*(np.random.random((m,m)))-1\n",
    "U = U0*log(m-1)+delta\n",
    "V = np.array([[0.0 for i in range(m)] for i in range(m)])\n",
    "for i in range(m):\n",
    "    for j in range(m):\n",
    "        V[i,j]=(1+2/(1+exp(-2*(U[i,j]/U0)))-1)/2\n",
    "num_iter = 10000\n",
    "\n",
    "ener = np.array([0.0 for x in range(num_iter)])"
   ]
  },
  {
   "cell_type": "code",
   "execution_count": 8,
   "metadata": {},
   "outputs": [],
   "source": [
    "for n in range(num_iter):\n",
    "    dU = d_u(V, distance, m)\n",
    "    U = U + dU * step\n",
    "    \n",
    "    for i in range(m):\n",
    "        for j in range(m):\n",
    "            V[i,j] = (1 + 2 / (1 + exp(-2 * (U[i,j] / U0))) - 1) / 2\n",
    "\n",
    "    e=energy(V,distance)\n",
    "    ener[n]=e"
   ]
  },
  {
   "cell_type": "code",
   "execution_count": 9,
   "metadata": {},
   "outputs": [],
   "source": [
    "(row,col)= V.shape\n",
    "\n",
    "V_H = np.array([0.0 for i in range(row)])\n",
    "\n",
    "V_W = np.array([0 for i in range(row)])\n",
    "\n",
    "for i in range(m):\n",
    "    for j in range(m):\n",
    "        if V[j,i]>V_H[i]:\n",
    "            V_H[i]=V[j,i]\n",
    "            V_W[i]=j\n",
    "            \n",
    "V_1 = np.array([[0 for i in range(row)] for i in range(col)])\n",
    "for i in range(col):\n",
    "    V_1[V_W[i],i]=1\n",
    "    \n",
    "C = np.sum(V_1, axis=0)\n",
    "R = np.sum(V_1, axis=1)\n",
    "test = 1\n",
    "for i in range(m):\n",
    "    if C[i]!=1 or R[i]!=1:\n",
    "        test=0"
   ]
  },
  {
   "cell_type": "code",
   "execution_count": 13,
   "metadata": {},
   "outputs": [
    {
     "data": {
      "image/png": "[encoded data removed]",
      "text/plain": [
       "<Figure size 432x288 with 1 Axes>"
      ]
     },
     "metadata": {
      "needs_background": "light"
     },
     "output_type": "display_data"
    }
   ],
   "source": [
    "if test == 1:\n",
    "    \n",
    "    V_1H = np.array([0.0 for i in range(m)])\n",
    "    V_1W = np.array([0 for i in range(m)])\n",
    "    for i in range(m):\n",
    "        for j in range(m):\n",
    "            if V_1[j, i] > V_1H[i]:\n",
    "                V_1H[i] = V_1[j, i]\n",
    "                V_1W[i] = j\n",
    "                \n",
    "    city_i = np.array([0, 1, 2, 3, 4, 5, 6, 7, 8, 9])\n",
    "    V_0W = random.sample(list(city_i), 10)\n",
    "    \n",
    "    city_b = np.array([[0.0, 0.0], [0.0, 0.0], [0.0, 0.0], [0.0, 0.0], [0.0, 0.0], [0.0, 0.0], [0.0, 0.0], [0.0, 0.0], [0.0, 0.0], [0.0, 0.0]])\n",
    "    city_f = np.array([[0.0, 0.0], [0.0, 0.0], [0.0, 0.0], [0.0, 0.0], [0.0, 0.0], [0.0, 0.0], [0.0, 0.0], [0.0, 0.0], [0.0, 0.0], [0.0, 0.0]])\n",
    "    k=np.array([0,1,2,3,4,5,6,7,8,9])\n",
    "    k=[city[i] for i in V_0W]\n",
    "    for i in range(m):\n",
    "        city_b[i]=k[i]\n",
    "    j=np.array([0,1,2,3,4,5,6,7,8,9])\n",
    "    j=[city[i] for i in V_1W]\n",
    "    for i in range(m):\n",
    "        city_f[i]=j[i]\n",
    "        \n",
    "    X_b=[]\n",
    "    Y_b=[]\n",
    "    X_f=[]\n",
    "    Y_f=[]\n",
    "    for i in range(m):\n",
    "        X_b.append(city_b[i][0])\n",
    "        Y_b.append(city_b[i][1])\n",
    "        X_f.append(city_f[i][0])\n",
    "        Y_f.append(city_f[i][1])\n",
    "        \n",
    "    X_b.append(city_b[0][0])\n",
    "    Y_b.append(city_b[0][1])\n",
    "    X_f.append(city_f[0][0])\n",
    "    Y_f.append(city_f[0][1])\n",
    "    plt.plot(X_b,Y_b,'r',X_f, Y_f, '-.b')\n",
    "    plt.scatter(X_f,Y_f)\n",
    "    plt.show()\n",
    "else:\n",
    "    print('No optimal path')"
   ]
  },
  {
   "cell_type": "code",
   "execution_count": null,
   "metadata": {},
   "outputs": [],
   "source": []
  }
 ],
 "metadata": {
  "kernelspec": {
   "display_name": "Python 3",
   "language": "python",
   "name": "python3"
  },
  "language_info": {
   "codemirror_mode": {
    "name": "ipython",
    "version": 3
   },
   "file_extension": ".py",
   "mimetype": "text/x-python",
   "name": "python",
   "nbconvert_exporter": "python",
   "pygments_lexer": "ipython3",
   "version": "3.7.5"
  }
 },
 "nbformat": 4,
 "nbformat_minor": 2
}
