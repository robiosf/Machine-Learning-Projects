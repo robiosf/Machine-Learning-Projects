{
 "cells": [
  {
   "cell_type": "code",
   "execution_count": 1,
   "metadata": {},
   "outputs": [],
   "source": [
    "from PIL import Image\n",
    "import numpy as np\n",
    "%matplotlib inline\n",
    "import matplotlib.pyplot as plt\n",
    "import os"
   ]
  },
  {
   "cell_type": "code",
   "execution_count": 2,
   "metadata": {},
   "outputs": [],
   "source": [
    "def transform(img):\n",
    "    result = np.int_(img.reshape((-1,1)))\n",
    "    length = len(result)\n",
    "    for i in range(length):\n",
    "        if result[i] == 0: \n",
    "            result[i] = -1            \n",
    "        else:\n",
    "            result[i] = 1;          \n",
    "        return result"
   ]
  },
  {
   "cell_type": "code",
   "execution_count": 3,
   "metadata": {},
   "outputs": [],
   "source": [
    "def training(W,img,al): \n",
    "    p = transform(img)\n",
    "    pLen = len(p)\n",
    "    \n",
    "    if W is None:\n",
    "        W = np.zeros((pLen,pLen))\n",
    "    t = p\n",
    "    \n",
    "    result = W + al * np.dot(p,t.T);\n",
    "    return result"
   ]
  },
  {
   "cell_type": "code",
   "execution_count": 4,
   "metadata": {},
   "outputs": [],
   "source": [
    "def hardlim(a):   \n",
    "    a[ a >= 0 ] = 1\n",
    "    a[a < 0 ] = 0\n",
    "    return a"
   ]
  },
  {
   "cell_type": "code",
   "execution_count": 5,
   "metadata": {},
   "outputs": [],
   "source": [
    "def testing(W, img):\n",
    "     \n",
    "    result = hardlim(np.dot(transform(img).T,W))      \n",
    "    return result"
   ]
  },
  {
   "cell_type": "code",
   "execution_count": 6,
   "metadata": {},
   "outputs": [],
   "source": [
    "def main():\n",
    "    \n",
    "    alpha = 0.5 \n",
    "    \n",
    "    trainDir = \"exam/train/\"\n",
    "    testDir = \"exam/test/\"\n",
    "    trainImg = os.listdir(trainDir)\n",
    "    trainImg.sort()\n",
    "\n",
    "    trnLen = len(trainImg)\n",
    "    W = None;\n",
    "\n",
    "    # training\n",
    "    for i in range(trnLen):\n",
    "        img = np.array(Image.open(trainDir+trainImg[i]).convert(\"1\"))\n",
    "        \n",
    "        W = training(W, img, alpha)\n",
    "\n",
    "    \n",
    "    count = 1\n",
    "    for i in range(trnLen):\n",
    "        img = Image.open(trainDir+trainImg[i]).convert(\"1\")\n",
    "        plt.subplot(1,trnLen,i+1)\n",
    "        plt.title(str(i))\n",
    "        plt.imshow(img,cmap=plt.cm.gray)\n",
    "\n",
    "    # testing\n",
    "    dirsAll = os.listdir(testDir)\n",
    "    dirsAll.sort()\n",
    "    dirLen = len(dirsAll) \n",
    "    count = 1\n",
    "    \n",
    "    plt.figure(figsize=(10,10))\n",
    "    \n",
    "    for i in range(dirLen):\n",
    "        files = os.listdir(testDir+dirsAll[i])\n",
    "        files.sort()\n",
    "        filesLen = len(files)\n",
    "\n",
    "        for j in range(filesLen):\n",
    "            fullPath = testDir + dirsAll[i] + '/' + files[j]\n",
    "            img = np.array(Image.open(fullPath).convert(\"1\"))\n",
    "\n",
    "            imageResult = testing(W, img)\n",
    "\n",
    "            DisSource = hardlim(transform(img).reshape(img.shape))\n",
    "\n",
    "            DisResult = imageResult.reshape(img.shape)\n",
    "\n",
    "            plt.subplot(dirLen, 2 * filesLen , count)                 \n",
    "            plt.title('source')\n",
    "            count = count + 1\n",
    "            plt.imshow(DisSource,cmap=plt.cm.gray)\n",
    "\n",
    "            plt.subplot(dirLen, 2 * filesLen, count)\n",
    "            plt.title('result')\n",
    "            count = count + 1                 \n",
    "            plt.imshow(DisResult,cmap=plt.cm.gray)\n",
    "\n",
    "    fig = plt.get_current_fig_manager()           \n",
    "    plt.show()"
   ]
  },
  {
   "cell_type": "code",
   "execution_count": 7,
   "metadata": {},
   "outputs": [
    {
     "data": {
      "image/png": "[encoded data removed]",
      "text/plain": [
       "<Figure size 432x288 with 4 Axes>"
      ]
     },
     "metadata": {
      "needs_background": "light"
     },
     "output_type": "display_data"
    },
    {
     "data": {
      "image/png": "[encoded data removed]",
      "text/plain": [
       "<Figure size 720x720 with 24 Axes>"
      ]
     },
     "metadata": {
      "needs_background": "light"
     },
     "output_type": "display_data"
    }
   ],
   "source": [
    "main()"
   ]
  },
  {
   "cell_type": "code",
   "execution_count": null,
   "metadata": {},
   "outputs": [],
   "source": []
  }
 ],
 "metadata": {
  "kernelspec": {
   "display_name": "Python 3",
   "language": "python",
   "name": "python3"
  },
  "language_info": {
   "codemirror_mode": {
    "name": "ipython",
    "version": 3
   },
   "file_extension": ".py",
   "mimetype": "text/x-python",
   "name": "python",
   "nbconvert_exporter": "python",
   "pygments_lexer": "ipython3",
   "version": "3.7.6"
  }
 },
 "nbformat": 4,
 "nbformat_minor": 4
}
